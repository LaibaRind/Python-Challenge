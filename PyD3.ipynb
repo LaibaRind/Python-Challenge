{
  "nbformat": 4,
  "nbformat_minor": 0,
  "metadata": {
    "colab": {
      "provenance": [],
      "authorship_tag": "ABX9TyOMgVcpjEcKz8tywL17s+Qv",
      "include_colab_link": true
    },
    "kernelspec": {
      "name": "python3",
      "display_name": "Python 3"
    },
    "language_info": {
      "name": "python"
    }
  },
  "cells": [
    {
      "cell_type": "markdown",
      "metadata": {
        "id": "view-in-github",
        "colab_type": "text"
      },
      "source": [
        "<a href=\"https://colab.research.google.com/github/LaibaRind/Python-Challenge/blob/main/PyD3.ipynb\" target=\"_parent\"><img src=\"https://colab.research.google.com/assets/colab-badge.svg\" alt=\"Open In Colab\"/></a>"
      ]
    },
    {
      "cell_type": "code",
      "execution_count": null,
      "metadata": {
        "id": "YllSlarWN2fI",
        "colab": {
          "base_uri": "https://localhost:8080/"
        },
        "outputId": "4e570e60-c145-4e52-a1af-c01cfc687964"
      },
      "outputs": [
        {
          "output_type": "stream",
          "name": "stdout",
          "text": [
            "Enter a number:13\n",
            "Yes,13 is a Prime Number\n"
          ]
        }
      ],
      "source": [
        "num = int(input(\"Enter a number:\"))\n",
        "\n",
        "if num > 1:\n",
        "\n",
        "   for i in range(2, num):\n",
        "\n",
        "       if num % i == 0:\n",
        "         print(f\"\"\"No,{num} isn't a Prime Number\"\"\")\n",
        "         break\n",
        "   else:\n",
        "    print(f\"\"\"Yes,{num} is a Prime Number\"\"\")\n",
        "\n",
        "else:\n",
        " print(\"Yes, it's a Prime Number\")"
      ]
    }
  ]
}