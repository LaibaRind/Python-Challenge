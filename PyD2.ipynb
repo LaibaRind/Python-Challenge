{
  "nbformat": 4,
  "nbformat_minor": 0,
  "metadata": {
    "colab": {
      "provenance": [],
      "authorship_tag": "ABX9TyNCFmwRkOBtTfbpH1TYa2GI",
      "include_colab_link": true
    },
    "kernelspec": {
      "name": "python3",
      "display_name": "Python 3"
    },
    "language_info": {
      "name": "python"
    }
  },
  "cells": [
    {
      "cell_type": "markdown",
      "metadata": {
        "id": "view-in-github",
        "colab_type": "text"
      },
      "source": [
        "<a href=\"https://colab.research.google.com/github/LaibaRind/Python-day1-challenge-/blob/main/PyD2.ipynb\" target=\"_parent\"><img src=\"https://colab.research.google.com/assets/colab-badge.svg\" alt=\"Open In Colab\"/></a>"
      ]
    },
    {
      "cell_type": "code",
      "execution_count": 14,
      "metadata": {
        "colab": {
          "base_uri": "https://localhost:8080/"
        },
        "id": "cs9b1XjBMfna",
        "outputId": "439d5baa-c998-40c9-e8af-103783f5ffa1"
      },
      "outputs": [
        {
          "output_type": "stream",
          "name": "stdout",
          "text": [
            "Total words: 6\n"
          ]
        }
      ],
      "source": [
        "sentence:str=\"Today is second day of challenge\"\n",
        "words=sentence.split()\n",
        "words_count=len(words)\n",
        "\n",
        "print(f\"Total words: {words_count}\")"
      ]
    },
    {
      "cell_type": "code",
      "source": [
        "sentence_2:str=\"I'm learning Python\"\n",
        "reverse_sentence=\" \".join(reversed(sentence_2.split()))\n",
        "print(reverse_sentence)"
      ],
      "metadata": {
        "colab": {
          "base_uri": "https://localhost:8080/"
        },
        "id": "8vxkhVPfONTX",
        "outputId": "8d60f025-74f4-43ee-91fb-9de4b60272e1"
      },
      "execution_count": 11,
      "outputs": [
        {
          "output_type": "stream",
          "name": "stdout",
          "text": [
            "Python learning I'm\n"
          ]
        }
      ]
    }
  ]
}